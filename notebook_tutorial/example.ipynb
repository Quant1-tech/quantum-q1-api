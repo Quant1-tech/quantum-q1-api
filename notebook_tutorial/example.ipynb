{
 "cells": [
  {
   "cell_type": "code",
   "execution_count": null,
   "metadata": {},
   "outputs": [],
   "source": [
    "%pip install python-dotenv matplotlib pandas plotly prettytable\n"
   ]
  },
  {
   "cell_type": "code",
   "execution_count": null,
   "metadata": {},
   "outputs": [],
   "source": [
    "# We're going to use the requests library for http requests, \n",
    "# dotenv to load environment variables, os to get those variables, \n",
    "# and pandas to create dataframes.\n",
    "\n",
    "import requests \n",
    "from dotenv import load_dotenv\n",
    "from os import environ \n",
    "import pandas as pd"
   ]
  },
  {
   "cell_type": "code",
   "execution_count": null,
   "metadata": {},
   "outputs": [],
   "source": [
    "load_dotenv()\n",
    "\n",
    "# The variables below are present in the API information in Rapid.\n",
    "X_RapidAPI_Key  = environ.get('X_RapidAPI_Key')\n",
    "X_RapidAPI_Host = environ.get('X-RapidAPI-Host') \n",
    "\n",
    "\n",
    "# Authentication Provider Variables\n",
    "# These variables are acquired from the authentication provider from when, where will you go\n",
    "# create a client. To do so, just follow the step-by-step instructions in Rapid's tutorials.\n",
    "client_id       = environ.get('client_id')\n",
    "client_secret   = environ.get('client_secret')\n",
    "username        = environ.get('username')\n",
    "password        = environ.get('password')\n",
    "url_token       = 'https://provider.quant1.com.br/oauth/token'\n",
    "\n",
    "asset_name = 'AZUL4'\n",
    "# API general variable.\n",
    "url = \"https://quantum-q1-api.p.rapidapi.com\""
   ]
  },
  {
   "cell_type": "code",
   "execution_count": null,
   "metadata": {},
   "outputs": [],
   "source": [
    "# In this request we capture the token that we will use to authenticate our API.\n",
    "response = requests.post(url_token, auth=(client_id, client_secret), data={\n",
    "    'username': username, \n",
    "    'password': password,\n",
    "    'scope': 'profile',\n",
    "    'response_types': 'code',\n",
    "    'grant_type':'password'\n",
    "\n",
    "}).json()"
   ]
  },
  {
   "cell_type": "code",
   "execution_count": null,
   "metadata": {},
   "outputs": [],
   "source": [
    "# This header will be used to validate the API, it will use the Rapid API key and the API host along with the oauth Access Token that was generated earlier\n",
    "headers = {\n",
    "\t\"X-RapidAPI-Key\": X_RapidAPI_Key,\n",
    "\t\"X-RapidAPI-Host\": X_RapidAPI_Host,\n",
    "    \"Authorization\": \"Bearer \" + response.get('access_token')\n",
    "}"
   ]
  },
  {
   "cell_type": "code",
   "execution_count": null,
   "metadata": {},
   "outputs": [],
   "source": [
    "# Function responsible for making the request in the API\n",
    "def asset_all():\n",
    "    response = requests.get(url+\"/assets/all\", headers=headers)\n",
    "    return response.json()\n",
    "data_all = data = asset_all()"
   ]
  },
  {
   "cell_type": "code",
   "execution_count": null,
   "metadata": {},
   "outputs": [],
   "source": [
    "# Here we filter the assets that are present in São Paulo, Belo Horizonte and Rio de Janeiro.\n",
    "# We also organize the data in ascending order according to marketcap for better visualization.\n",
    "# And we create a dataframe for using the data that was treated.\n",
    "\n",
    "data = list(filter(lambda key: key['head_office'] == 'São Paulo' or key['head_office'] == 'Belo Horizonte' or key['head_office'] == 'Rio de Janeiro', data))\n",
    "data = sorted(data, key=lambda x: x['marketcap'])\n",
    "data_all = sorted(data_all, key=lambda x: x['marketcap'])\n",
    "\n",
    "data = pd.DataFrame.from_dict(data)\n",
    "data_all = pd.DataFrame.from_dict(data_all)\n",
    "\n"
   ]
  },
  {
   "cell_type": "code",
   "execution_count": null,
   "metadata": {},
   "outputs": [],
   "source": [
    "# Here we generate a scatter chart to demonstrate this relationship and to make a comparison possible.\n",
    "import plotly.express as px\n",
    "fig = px.scatter(data_frame=data, x='marketcap', y='employees', color='head_office')\n",
    "fig.update_layout(\n",
    "    title='Relationship between market value and employees in assets in São Paulo, Belo Horizonte and Rio de Janeiro.',\n",
    "    xaxis_title='Marketcap',\n",
    "    yaxis_title='Employees',\n",
    "    template = 'plotly_white',\n",
    ")\n",
    "fig.write_html('first_figure.html', auto_open=True)"
   ]
  },
  {
   "cell_type": "code",
   "execution_count": null,
   "metadata": {},
   "outputs": [],
   "source": [
    "fig = px.scatter(data_frame=data_all, x='marketcap', y='employees', color='head_office')\n",
    "fig.update_layout(\n",
    "    title='Relationship between market value and employees in the assets.',\n",
    "    xaxis_title='Marketcap',\n",
    "    yaxis_title='Employees',\n",
    "    template = 'plotly_white',\n",
    ")\n",
    "fig.write_html('first_figure.html', auto_open=True)"
   ]
  },
  {
   "cell_type": "code",
   "execution_count": null,
   "metadata": {},
   "outputs": [],
   "source": [
    "# Now i will show a prompt to fetch assets by name.\n",
    "def asset_by_name(asset):\n",
    "    response = requests.get(url+f\"/assets/by/name/{asset}\", headers=headers)\n",
    "    return response.json()\n",
    "data = asset_by_name('AZUL4')"
   ]
  },
  {
   "cell_type": "code",
   "execution_count": null,
   "metadata": {},
   "outputs": [],
   "source": [
    "# An example of an asset data visualization\n",
    "from prettytable import PrettyTable\n",
    "\n",
    "table = PrettyTable()\n",
    "field_names = ['ceo', 'cnpj', 'company_url', 'description', 'employees', 'foundation', 'head_office', 'id', 'marketcap', 'marketplace', 'sector', 'symbol']\n",
    "table.field_names = field_names\n",
    "table.add_row([d for d in data.values()])\n",
    "print(table)\n"
   ]
  }
 ],
 "metadata": {
  "kernelspec": {
   "display_name": "venv",
   "language": "python",
   "name": "python3"
  },
  "language_info": {
   "codemirror_mode": {
    "name": "ipython",
    "version": 3
   },
   "file_extension": ".py",
   "mimetype": "text/x-python",
   "name": "python",
   "nbconvert_exporter": "python",
   "pygments_lexer": "ipython3",
   "version": "3.10.6"
  },
  "orig_nbformat": 4
 },
 "nbformat": 4,
 "nbformat_minor": 2
}
